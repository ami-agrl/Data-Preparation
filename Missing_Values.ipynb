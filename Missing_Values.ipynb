{
  "nbformat": 4,
  "nbformat_minor": 0,
  "metadata": {
    "colab": {
      "name": "Missing Values.ipynb",
      "provenance": [],
      "authorship_tag": "ABX9TyOWLNFU7dCrzKOGaej6utHQ"
    },
    "kernelspec": {
      "name": "python3",
      "display_name": "Python 3"
    }
  },
  "cells": [
    {
      "cell_type": "code",
      "metadata": {
        "id": "PtxsIAhp_2_B",
        "colab_type": "code",
        "colab": {}
      },
      "source": [
        "# importing libraries\n",
        "\n",
        "import numpy as np\n",
        "import pandas as pd\n",
        "\n",
        "from sklearn.impute import SimpleImputer"
      ],
      "execution_count": 0,
      "outputs": []
    },
    {
      "cell_type": "code",
      "metadata": {
        "id": "BAh5H921AAxh",
        "colab_type": "code",
        "colab": {}
      },
      "source": [
        "data = pd.read_csv(\"/content/sample_data/Data.csv\")"
      ],
      "execution_count": 0,
      "outputs": []
    },
    {
      "cell_type": "code",
      "metadata": {
        "id": "9Q6bPcfYAA0i",
        "colab_type": "code",
        "colab": {
          "base_uri": "https://localhost:8080/",
          "height": 292
        },
        "outputId": "f1c65f75-4078-4338-b79b-54809f6ff528"
      },
      "source": [
        "data.head(5)"
      ],
      "execution_count": 19,
      "outputs": [
        {
          "output_type": "execute_result",
          "data": {
            "text/html": [
              "<div>\n",
              "<style scoped>\n",
              "    .dataframe tbody tr th:only-of-type {\n",
              "        vertical-align: middle;\n",
              "    }\n",
              "\n",
              "    .dataframe tbody tr th {\n",
              "        vertical-align: top;\n",
              "    }\n",
              "\n",
              "    .dataframe thead th {\n",
              "        text-align: right;\n",
              "    }\n",
              "</style>\n",
              "<table border=\"1\" class=\"dataframe\">\n",
              "  <thead>\n",
              "    <tr style=\"text-align: right;\">\n",
              "      <th></th>\n",
              "      <th>CODE_GENDER</th>\n",
              "      <th>NAME_INCOME_TYPE</th>\n",
              "      <th>NAME_EDUCATION_TYPE</th>\n",
              "      <th>NAME_FAMILY_STATUS</th>\n",
              "      <th>DAYS_BIRTH</th>\n",
              "      <th>DAYS_EMPLOYED</th>\n",
              "      <th>DAYS_REGISTRATION</th>\n",
              "      <th>DAYS_ID_PUBLISH</th>\n",
              "      <th>FLAG_EMP_PHONE</th>\n",
              "      <th>FLAG_WORK_PHONE</th>\n",
              "      <th>FLAG_PHONE</th>\n",
              "      <th>OCCUPATION_TYPE</th>\n",
              "      <th>REG_CITY_NOT_LIVE_CITY</th>\n",
              "      <th>REG_CITY_NOT_WORK_CITY</th>\n",
              "      <th>ORGANIZATION_TYPE</th>\n",
              "      <th>DAYS_LAST_PHONE_CHANGE</th>\n",
              "      <th>TARGET</th>\n",
              "    </tr>\n",
              "  </thead>\n",
              "  <tbody>\n",
              "    <tr>\n",
              "      <th>0</th>\n",
              "      <td>M</td>\n",
              "      <td>Working</td>\n",
              "      <td>Secondary / secondary special</td>\n",
              "      <td>Single / not married</td>\n",
              "      <td>9461</td>\n",
              "      <td>637</td>\n",
              "      <td>3648</td>\n",
              "      <td>2120</td>\n",
              "      <td>1</td>\n",
              "      <td>0</td>\n",
              "      <td>1</td>\n",
              "      <td>Laborers</td>\n",
              "      <td>0.0</td>\n",
              "      <td>0.0</td>\n",
              "      <td>Business Entity Type 3</td>\n",
              "      <td>1134.0</td>\n",
              "      <td>1.0</td>\n",
              "    </tr>\n",
              "    <tr>\n",
              "      <th>1</th>\n",
              "      <td>F</td>\n",
              "      <td>State servant</td>\n",
              "      <td>Higher education</td>\n",
              "      <td>Married</td>\n",
              "      <td>16765</td>\n",
              "      <td>1188</td>\n",
              "      <td>1186</td>\n",
              "      <td>291</td>\n",
              "      <td>1</td>\n",
              "      <td>0</td>\n",
              "      <td>1</td>\n",
              "      <td>Core staff</td>\n",
              "      <td>0.0</td>\n",
              "      <td>0.0</td>\n",
              "      <td>School</td>\n",
              "      <td>828.0</td>\n",
              "      <td>0.0</td>\n",
              "    </tr>\n",
              "    <tr>\n",
              "      <th>2</th>\n",
              "      <td>F</td>\n",
              "      <td>Working</td>\n",
              "      <td>Secondary / secondary special</td>\n",
              "      <td>Civil marriage</td>\n",
              "      <td>19005</td>\n",
              "      <td>3039</td>\n",
              "      <td>9833</td>\n",
              "      <td>2437</td>\n",
              "      <td>1</td>\n",
              "      <td>0</td>\n",
              "      <td>0</td>\n",
              "      <td>Laborers</td>\n",
              "      <td>0.0</td>\n",
              "      <td>0.0</td>\n",
              "      <td>Business Entity Type 3</td>\n",
              "      <td>617.0</td>\n",
              "      <td>0.0</td>\n",
              "    </tr>\n",
              "    <tr>\n",
              "      <th>3</th>\n",
              "      <td>M</td>\n",
              "      <td>Working</td>\n",
              "      <td>Secondary / secondary special</td>\n",
              "      <td>Single / not married</td>\n",
              "      <td>19932</td>\n",
              "      <td>3038</td>\n",
              "      <td>4311</td>\n",
              "      <td>3458</td>\n",
              "      <td>1</td>\n",
              "      <td>0</td>\n",
              "      <td>0</td>\n",
              "      <td>Core staff</td>\n",
              "      <td>0.0</td>\n",
              "      <td>1.0</td>\n",
              "      <td>Religion</td>\n",
              "      <td>1106.0</td>\n",
              "      <td>0.0</td>\n",
              "    </tr>\n",
              "    <tr>\n",
              "      <th>4</th>\n",
              "      <td>M</td>\n",
              "      <td>State servant</td>\n",
              "      <td>Secondary / secondary special</td>\n",
              "      <td>Married</td>\n",
              "      <td>16941</td>\n",
              "      <td>1588</td>\n",
              "      <td>4970</td>\n",
              "      <td>477</td>\n",
              "      <td>1</td>\n",
              "      <td>1</td>\n",
              "      <td>1</td>\n",
              "      <td>Laborers</td>\n",
              "      <td>0.0</td>\n",
              "      <td>0.0</td>\n",
              "      <td>Other</td>\n",
              "      <td>2536.0</td>\n",
              "      <td>0.0</td>\n",
              "    </tr>\n",
              "  </tbody>\n",
              "</table>\n",
              "</div>"
            ],
            "text/plain": [
              "  CODE_GENDER NAME_INCOME_TYPE  ... DAYS_LAST_PHONE_CHANGE TARGET\n",
              "0           M          Working  ...                 1134.0    1.0\n",
              "1           F    State servant  ...                  828.0    0.0\n",
              "2           F          Working  ...                  617.0    0.0\n",
              "3           M          Working  ...                 1106.0    0.0\n",
              "4           M    State servant  ...                 2536.0    0.0\n",
              "\n",
              "[5 rows x 17 columns]"
            ]
          },
          "metadata": {
            "tags": []
          },
          "execution_count": 19
        }
      ]
    },
    {
      "cell_type": "code",
      "metadata": {
        "id": "AAEP-RXbAA29",
        "colab_type": "code",
        "colab": {
          "base_uri": "https://localhost:8080/",
          "height": 34
        },
        "outputId": "554425e0-9221-4873-ea8a-2a8642966563"
      },
      "source": [
        "# Checking the shape of data\n",
        "\n",
        "data.shape"
      ],
      "execution_count": 20,
      "outputs": [
        {
          "output_type": "execute_result",
          "data": {
            "text/plain": [
              "(152222, 17)"
            ]
          },
          "metadata": {
            "tags": []
          },
          "execution_count": 20
        }
      ]
    },
    {
      "cell_type": "code",
      "metadata": {
        "id": "hHLraJJPAdP0",
        "colab_type": "code",
        "colab": {
          "base_uri": "https://localhost:8080/",
          "height": 323
        },
        "outputId": "0936ae1b-94b4-4b22-c9c2-2264cf633e50"
      },
      "source": [
        "# Checking how many values in each column is missing\n",
        "\n",
        "data.isnull().sum().sort_values(ascending = False)"
      ],
      "execution_count": 21,
      "outputs": [
        {
          "output_type": "execute_result",
          "data": {
            "text/plain": [
              "OCCUPATION_TYPE           48642\n",
              "TARGET                        1\n",
              "ORGANIZATION_TYPE             1\n",
              "REG_CITY_NOT_WORK_CITY        1\n",
              "REG_CITY_NOT_LIVE_CITY        1\n",
              "DAYS_LAST_PHONE_CHANGE        1\n",
              "DAYS_EMPLOYED                 0\n",
              "NAME_INCOME_TYPE              0\n",
              "NAME_EDUCATION_TYPE           0\n",
              "NAME_FAMILY_STATUS            0\n",
              "DAYS_BIRTH                    0\n",
              "FLAG_EMP_PHONE                0\n",
              "DAYS_REGISTRATION             0\n",
              "DAYS_ID_PUBLISH               0\n",
              "FLAG_WORK_PHONE               0\n",
              "FLAG_PHONE                    0\n",
              "CODE_GENDER                   0\n",
              "dtype: int64"
            ]
          },
          "metadata": {
            "tags": []
          },
          "execution_count": 21
        }
      ]
    },
    {
      "cell_type": "code",
      "metadata": {
        "id": "Ecwj9NgvAdS6",
        "colab_type": "code",
        "colab": {
          "base_uri": "https://localhost:8080/",
          "height": 323
        },
        "outputId": "40118b4f-12c4-4efa-e666-efc208fe3696"
      },
      "source": [
        "# Checking the percentage of missing values.\n",
        "\n",
        "data.isnull().mean().sort_values(ascending = False)*100"
      ],
      "execution_count": 22,
      "outputs": [
        {
          "output_type": "execute_result",
          "data": {
            "text/plain": [
              "OCCUPATION_TYPE           31.954645\n",
              "TARGET                     0.000657\n",
              "ORGANIZATION_TYPE          0.000657\n",
              "REG_CITY_NOT_WORK_CITY     0.000657\n",
              "REG_CITY_NOT_LIVE_CITY     0.000657\n",
              "DAYS_LAST_PHONE_CHANGE     0.000657\n",
              "DAYS_EMPLOYED              0.000000\n",
              "NAME_INCOME_TYPE           0.000000\n",
              "NAME_EDUCATION_TYPE        0.000000\n",
              "NAME_FAMILY_STATUS         0.000000\n",
              "DAYS_BIRTH                 0.000000\n",
              "FLAG_EMP_PHONE             0.000000\n",
              "DAYS_REGISTRATION          0.000000\n",
              "DAYS_ID_PUBLISH            0.000000\n",
              "FLAG_WORK_PHONE            0.000000\n",
              "FLAG_PHONE                 0.000000\n",
              "CODE_GENDER                0.000000\n",
              "dtype: float64"
            ]
          },
          "metadata": {
            "tags": []
          },
          "execution_count": 22
        }
      ]
    },
    {
      "cell_type": "code",
      "metadata": {
        "id": "Vo5NLy7-AdV2",
        "colab_type": "code",
        "colab": {
          "base_uri": "https://localhost:8080/",
          "height": 425
        },
        "outputId": "b33fb8bf-a2b5-4619-bbcf-93c10f3f42e6"
      },
      "source": [
        "data.info()"
      ],
      "execution_count": 23,
      "outputs": [
        {
          "output_type": "stream",
          "text": [
            "<class 'pandas.core.frame.DataFrame'>\n",
            "RangeIndex: 152222 entries, 0 to 152221\n",
            "Data columns (total 17 columns):\n",
            " #   Column                  Non-Null Count   Dtype  \n",
            "---  ------                  --------------   -----  \n",
            " 0   CODE_GENDER             152222 non-null  object \n",
            " 1   NAME_INCOME_TYPE        152222 non-null  object \n",
            " 2   NAME_EDUCATION_TYPE     152222 non-null  object \n",
            " 3   NAME_FAMILY_STATUS      152222 non-null  object \n",
            " 4   DAYS_BIRTH              152222 non-null  int64  \n",
            " 5   DAYS_EMPLOYED           152222 non-null  int64  \n",
            " 6   DAYS_REGISTRATION       152222 non-null  int64  \n",
            " 7   DAYS_ID_PUBLISH         152222 non-null  int64  \n",
            " 8   FLAG_EMP_PHONE          152222 non-null  int64  \n",
            " 9   FLAG_WORK_PHONE         152222 non-null  int64  \n",
            " 10  FLAG_PHONE              152222 non-null  int64  \n",
            " 11  OCCUPATION_TYPE         103580 non-null  object \n",
            " 12  REG_CITY_NOT_LIVE_CITY  152221 non-null  float64\n",
            " 13  REG_CITY_NOT_WORK_CITY  152221 non-null  float64\n",
            " 14  ORGANIZATION_TYPE       152221 non-null  object \n",
            " 15  DAYS_LAST_PHONE_CHANGE  152221 non-null  float64\n",
            " 16  TARGET                  152221 non-null  float64\n",
            "dtypes: float64(4), int64(7), object(6)\n",
            "memory usage: 19.7+ MB\n"
          ],
          "name": "stdout"
        }
      ]
    },
    {
      "cell_type": "code",
      "metadata": {
        "id": "8J4n9M2kAdZH",
        "colab_type": "code",
        "colab": {
          "base_uri": "https://localhost:8080/",
          "height": 85
        },
        "outputId": "e273dc68-0d24-46d4-95d7-aaea57ae5a89"
      },
      "source": [
        "# group data by Target \n",
        "# and find nulls for OCCUPATION_TYPE\n",
        "\n",
        "data['occupation_type_null'] = np.where(data.OCCUPATION_TYPE.isnull(), 1, 0)\n",
        "data.groupby(['TARGET'])['occupation_type_null'].mean()"
      ],
      "execution_count": 24,
      "outputs": [
        {
          "output_type": "execute_result",
          "data": {
            "text/plain": [
              "TARGET\n",
              "0.0    0.325535\n",
              "1.0    0.254483\n",
              "Name: occupation_type_null, dtype: float64"
            ]
          },
          "metadata": {
            "tags": []
          },
          "execution_count": 24
        }
      ]
    },
    {
      "cell_type": "code",
      "metadata": {
        "id": "rRyKFvyjArSv",
        "colab_type": "code",
        "colab": {
          "base_uri": "https://localhost:8080/",
          "height": 340
        },
        "outputId": "18b7a05f-10c5-43ff-e6c5-915e70787f5c"
      },
      "source": [
        "# 1.Deleting Rows\n",
        "\n",
        "data1= data.copy()\n",
        "data1.dropna(inplace=True)\n",
        "data1.isnull().sum()"
      ],
      "execution_count": 25,
      "outputs": [
        {
          "output_type": "execute_result",
          "data": {
            "text/plain": [
              "CODE_GENDER               0\n",
              "NAME_INCOME_TYPE          0\n",
              "NAME_EDUCATION_TYPE       0\n",
              "NAME_FAMILY_STATUS        0\n",
              "DAYS_BIRTH                0\n",
              "DAYS_EMPLOYED             0\n",
              "DAYS_REGISTRATION         0\n",
              "DAYS_ID_PUBLISH           0\n",
              "FLAG_EMP_PHONE            0\n",
              "FLAG_WORK_PHONE           0\n",
              "FLAG_PHONE                0\n",
              "OCCUPATION_TYPE           0\n",
              "REG_CITY_NOT_LIVE_CITY    0\n",
              "REG_CITY_NOT_WORK_CITY    0\n",
              "ORGANIZATION_TYPE         0\n",
              "DAYS_LAST_PHONE_CHANGE    0\n",
              "TARGET                    0\n",
              "occupation_type_null      0\n",
              "dtype: int64"
            ]
          },
          "metadata": {
            "tags": []
          },
          "execution_count": 25
        }
      ]
    },
    {
      "cell_type": "code",
      "metadata": {
        "id": "HK6lZ8lGArYH",
        "colab_type": "code",
        "colab": {
          "base_uri": "https://localhost:8080/",
          "height": 34
        },
        "outputId": "c34e7d61-b2f6-4c2f-ead6-1921f77d74b9"
      },
      "source": [
        "# 2. Replacing With Mean/Median/Mode\n",
        "\n",
        "data2 = data.copy()\n",
        "data2['OCCUPATION_TYPE'].isnull().sum()\n"
      ],
      "execution_count": 26,
      "outputs": [
        {
          "output_type": "execute_result",
          "data": {
            "text/plain": [
              "48642"
            ]
          },
          "metadata": {
            "tags": []
          },
          "execution_count": 26
        }
      ]
    },
    {
      "cell_type": "code",
      "metadata": {
        "id": "btgThyTWA3DO",
        "colab_type": "code",
        "colab": {
          "base_uri": "https://localhost:8080/",
          "height": 51
        },
        "outputId": "32c57807-3840-485a-a505-8128eb0b7a9a"
      },
      "source": [
        "data2['OCCUPATION_TYPE'].mode()"
      ],
      "execution_count": 27,
      "outputs": [
        {
          "output_type": "execute_result",
          "data": {
            "text/plain": [
              "0    Laborers\n",
              "dtype: object"
            ]
          },
          "metadata": {
            "tags": []
          },
          "execution_count": 27
        }
      ]
    },
    {
      "cell_type": "code",
      "metadata": {
        "id": "5_XjwD6LA3Gf",
        "colab_type": "code",
        "colab": {
          "base_uri": "https://localhost:8080/",
          "height": 289
        },
        "outputId": "ecf0afe7-ec50-4ad5-93d5-e9edb67cf078"
      },
      "source": [
        "data2['OCCUPATION_TYPE'].replace(np.NaN,data2['OCCUPATION_TYPE'].mode()).head(15)"
      ],
      "execution_count": 28,
      "outputs": [
        {
          "output_type": "execute_result",
          "data": {
            "text/plain": [
              "0        Laborers\n",
              "1      Core staff\n",
              "2        Laborers\n",
              "3      Core staff\n",
              "4        Laborers\n",
              "5     Accountants\n",
              "6        Managers\n",
              "7             NaN\n",
              "8      Core staff\n",
              "9             NaN\n",
              "10       Laborers\n",
              "11        Drivers\n",
              "12       Laborers\n",
              "13       Laborers\n",
              "14        Drivers\n",
              "Name: OCCUPATION_TYPE, dtype: object"
            ]
          },
          "metadata": {
            "tags": []
          },
          "execution_count": 28
        }
      ]
    },
    {
      "cell_type": "code",
      "metadata": {
        "id": "K-P-yTfsA3Jk",
        "colab_type": "code",
        "colab": {
          "base_uri": "https://localhost:8080/",
          "height": 340
        },
        "outputId": "ff12c85d-46f1-48db-81b1-a52e427d1701"
      },
      "source": [
        "data2.isnull().sum()"
      ],
      "execution_count": 29,
      "outputs": [
        {
          "output_type": "execute_result",
          "data": {
            "text/plain": [
              "CODE_GENDER                   0\n",
              "NAME_INCOME_TYPE              0\n",
              "NAME_EDUCATION_TYPE           0\n",
              "NAME_FAMILY_STATUS            0\n",
              "DAYS_BIRTH                    0\n",
              "DAYS_EMPLOYED                 0\n",
              "DAYS_REGISTRATION             0\n",
              "DAYS_ID_PUBLISH               0\n",
              "FLAG_EMP_PHONE                0\n",
              "FLAG_WORK_PHONE               0\n",
              "FLAG_PHONE                    0\n",
              "OCCUPATION_TYPE           48642\n",
              "REG_CITY_NOT_LIVE_CITY        1\n",
              "REG_CITY_NOT_WORK_CITY        1\n",
              "ORGANIZATION_TYPE             1\n",
              "DAYS_LAST_PHONE_CHANGE        1\n",
              "TARGET                        1\n",
              "occupation_type_null          0\n",
              "dtype: int64"
            ]
          },
          "metadata": {
            "tags": []
          },
          "execution_count": 29
        }
      ]
    },
    {
      "cell_type": "code",
      "metadata": {
        "id": "GjhmxWcHA3M7",
        "colab_type": "code",
        "colab": {}
      },
      "source": [
        "# 3. Since the percentage of missing values is nearly 1/3 of whole dataset, it is not wise to drop this much amount of data.\n",
        "# Strategy of Imputing with 'constant value'.\n",
        "\n",
        "imp = SimpleImputer(strategy='constant', fill_value='Missing')\n",
        "data_without_missing = pd.DataFrame(imp.fit_transform(data))\n",
        "data_without_missing.columns=data.columns\n",
        "data_without_missing.index=data.index"
      ],
      "execution_count": 0,
      "outputs": []
    },
    {
      "cell_type": "code",
      "metadata": {
        "id": "UUR5v_AJA3Py",
        "colab_type": "code",
        "colab": {
          "base_uri": "https://localhost:8080/",
          "height": 374
        },
        "outputId": "0661210d-8342-4f1d-8482-81526fe558a8"
      },
      "source": [
        "data_without_missing.OCCUPATION_TYPE.value_counts()"
      ],
      "execution_count": 31,
      "outputs": [
        {
          "output_type": "execute_result",
          "data": {
            "text/plain": [
              "Missing                  48642\n",
              "Laborers                 27546\n",
              "Sales staff              15423\n",
              "Core staff               13401\n",
              "Managers                 10214\n",
              "Drivers                   9396\n",
              "High skill tech staff     5411\n",
              "Accountants               4746\n",
              "Medicine staff            4313\n",
              "Security staff            3409\n",
              "Cooking staff             2979\n",
              "Cleaning staff            2286\n",
              "Private service staff     1287\n",
              "Low-skill Laborers        1043\n",
              "Waiters/barmen staff       644\n",
              "Secretaries                639\n",
              "Realty agents              355\n",
              "HR staff                   263\n",
              "IT staff                   224\n",
              "L                            1\n",
              "Name: OCCUPATION_TYPE, dtype: int64"
            ]
          },
          "metadata": {
            "tags": []
          },
          "execution_count": 31
        }
      ]
    },
    {
      "cell_type": "markdown",
      "metadata": {
        "id": "mh6IiLMxBItS",
        "colab_type": "text"
      },
      "source": [
        "# 4. Predicting The Missing Values using Multiclass predictor in this example."
      ]
    },
    {
      "cell_type": "markdown",
      "metadata": {
        "id": "-5beyPi5BKVF",
        "colab_type": "text"
      },
      "source": [
        "# 5. Using the algorithms which works well with missing values. e.g KNN Imputer"
      ]
    }
  ]
}